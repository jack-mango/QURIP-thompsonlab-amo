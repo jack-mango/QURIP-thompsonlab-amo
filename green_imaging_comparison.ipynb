{
 "cells": [
  {
   "cell_type": "code",
   "execution_count": 40,
   "metadata": {},
   "outputs": [],
   "source": [
    "import numpy as np\n",
    "import matplotlib.pyplot as plt\n",
    "from scipy.io import loadmat\n",
    "\n",
    "import os\n",
    "\n",
    "from tensorflow.keras import datasets, layers, models, optimizers\n",
    "\n",
    "from ImagingSoftware.ImageProcessing import *\n",
    "#from ImagingSoftware.ImageClassifier import *"
   ]
  },
  {
   "cell_type": "code",
   "execution_count": 44,
   "metadata": {},
   "outputs": [],
   "source": [
    "def make_dataset(exposure_time, n_tweezers, n_loops, decimate=2):\n",
    "    path = f\"Data/06:23:23/imaging exposure time = {exposure_time}ms/\"\n",
    "    n_files = len(os.listdir(path))\n",
    "    skip = np.random.randint(n_files)\n",
    "    training_crops = []\n",
    "    training_labels = []\n",
    "    testing_crops = []\n",
    "    testing_labels = []\n",
    "    positions = None\n",
    "    for i, file in enumerate(os.listdir(path)):\n",
    "        if file.endswith('.mat'):\n",
    "            data = loadmat(path + file)\n",
    "            if i == 0:\n",
    "                processor = GreenImageProcessor(data['stack'], n_tweezers, n_loops)\n",
    "                positions = processor.tweezer_positions\n",
    "            else:\n",
    "                processor = GreenImageProcessor(data['stack'], n_tweezers, n_loops, tweezer_positions=positions)\n",
    "            crops, labels = processor.make_dataset()\n",
    "            if i == skip:\n",
    "                testing_crops.append(crops)\n",
    "                testing_labels.append(labels)\n",
    "            else:\n",
    "                training_crops.append(crops)\n",
    "                training_labels.append(labels)\n",
    "    training_crops = np.concatenate(training_crops, axis=0)\n",
    "    training_labels = np.concatenate(training_labels, axis=0)\n",
    "    testing_crops = np.concatenate(testing_crops, axis=0)\n",
    "    testing_labels = np.concatenate(testing_labels, axis=0)\n",
    "    keep_training = np.random.choice(training_labels.shape[0], training_labels.shape[0] // 10 ** decimate, replace=False)\n",
    "    keep_testing = np.random.choice(testing_labels.shape[0], testing_labels.shape[0] // 10 ** decimate, replace=False)\n",
    "    np.savez_compressed(path + f\"{exposure_time}ms dataset\", training_crops=training_crops[keep_training],\n",
    "                        training_labels=training_labels[keep_training],\n",
    "                        testing_crops=testing_crops[keep_testing],\n",
    "                        testing_labels=testing_labels[keep_testing])\n",
    "    return\n",
    "\n",
    "def load_dataset(exposure_time):\n",
    "    path = f\"Data/06:23:23/imaging exposure time = {exposure_time}ms/\"\n",
    "    return np.load(path + f\"{exposure_time}ms dataset.npz\")"
   ]
  },
  {
   "cell_type": "code",
   "execution_count": 45,
   "metadata": {},
   "outputs": [],
   "source": [
    "def architecture_0(input_shape, n_filters, filter_size):\n",
    "    network = models.Sequential()\n",
    "    network.add(layers.Input(shape=(*input_shape, 1)))\n",
    "    network.add(layers.Conv2D(n_filters, filter_size, strides=1, activation='relu'))\n",
    "    network.add(layers.MaxPooling2D(pool_size=(2, 2)))\n",
    "    network.add(layers.Flatten())\n",
    "    network.add(layers.Dense(2, activation='sigmoid'))\n",
    "    return network\n",
    "\n",
    "def architecture_1(input_shape, n_filters, filter_size):\n",
    "    print(type(filter_size[0]), filter_size[1])\n",
    "    network = models.Sequential()\n",
    "    network.add(layers.Input(shape=(*input_shape, 1)))\n",
    "    network.add(layers.Conv2D(n_filters[0], filter_size[0], strides=1, activation='relu'))\n",
    "    network.add(layers.Conv2D(n_filters[1], filter_size[1], strides=1, activation='relu'))\n",
    "    network.add(layers.Flatten())\n",
    "    network.add(layers.Dense(2, activation='sigmoid'))\n",
    "    return network   \n",
    "\n",
    "def architecture_2(input_shape, n_filters, filter_size):\n",
    "    network = models.Sequential()\n",
    "    network.add(layers.Input(shape=(*input_shape, 1)))\n",
    "    network.add(layers.Conv2D(n_filters[0], filter_size[0], strides=1, activation='relu'))\n",
    "    network.add(layers.MaxPooling2D(pool_size=(2, 2)))\n",
    "    network.add(layers.Conv2D(n_filters[1], filter_size[1], strides=1, activation='relu'))\n",
    "    network.add(layers.Flatten())\n",
    "    network.add(layers.Dense(2, activation='sigmoid'))\n",
    "    return network\n",
    "\n",
    "def architecture_3(input_shape, n_filters, filter_size):\n",
    "    network = models.Sequential()\n",
    "    network.add(layers.Input(shape=(*input_shape, 1)))\n",
    "    network.add(layers.Conv2D(n_filters[0], filter_size[0], strides=1, activation='relu'))\n",
    "    network.add(layers.MaxPooling2D(pool_size=(2, 2)))\n",
    "    network.add(layers.Conv2D(n_filters[1], filter_size[1], strides=1, activation='relu'))\n",
    "    network.add(layers.Flatten())\n",
    "    network.add(layers.Dense(9, activation='sigmoid'))\n",
    "    network.add(layers.Dense(2, activation='sigmoid'))\n",
    "    return network"
   ]
  },
  {
   "attachments": {},
   "cell_type": "markdown",
   "metadata": {},
   "source": [
    "# Make a File of Training/Testing Data\n"
   ]
  },
  {
   "cell_type": "code",
   "execution_count": 46,
   "metadata": {},
   "outputs": [
    {
     "name": "stdout",
     "output_type": "stream",
     "text": [
      "[array([[[103,  97, 102, ..., 111, 108, 101],\n",
      "        [104, 109, 113, ...,  97, 105, 105],\n",
      "        [100, 102, 119, ..., 106, 106, 107],\n",
      "        ...,\n",
      "        [107, 109, 104, ..., 103, 112, 110],\n",
      "        [ 99, 110, 107, ...,  98, 105,  99],\n",
      "        [105, 102, 105, ..., 117, 104,  98]],\n",
      "\n",
      "       [[101,  96, 113, ..., 103, 105, 105],\n",
      "        [106,  98, 103, ..., 113, 115,  99],\n",
      "        [103, 115, 104, ..., 100, 101, 108],\n",
      "        ...,\n",
      "        [111, 106, 108, ...,  98, 101, 106],\n",
      "        [104, 102, 108, ..., 110, 105, 104],\n",
      "        [103, 101, 105, ...,  97,  98, 107]],\n",
      "\n",
      "       [[108, 106,  96, ..., 103, 102, 104],\n",
      "        [106, 102, 103, ..., 109, 116, 100],\n",
      "        [115, 114, 114, ...,  98, 105, 102],\n",
      "        ...,\n",
      "        [102, 108, 101, ...,  90,  99, 100],\n",
      "        [103, 119, 119, ..., 108, 102,  98],\n",
      "        [110, 101, 118, ..., 102, 104, 109]],\n",
      "\n",
      "       ...,\n",
      "\n",
      "       [[105, 111, 101, ..., 114, 106,  98],\n",
      "        [ 97, 118,  99, ..., 110, 104, 105],\n",
      "        [104, 105, 112, ..., 100, 104,  99],\n",
      "        ...,\n",
      "        [111, 109, 105, ..., 107, 113, 112],\n",
      "        [104, 101,  95, ..., 108, 111, 104],\n",
      "        [101, 111, 100, ..., 111, 105, 104]],\n",
      "\n",
      "       [[102,  99, 100, ...,  99, 106, 108],\n",
      "        [103, 102,  99, ...,  97,  96, 114],\n",
      "        [ 99, 109, 103, ..., 107, 102,  98],\n",
      "        ...,\n",
      "        [112,  98, 102, ..., 105, 114, 102],\n",
      "        [107, 104, 105, ..., 103, 114, 103],\n",
      "        [102,  96, 102, ..., 110, 108, 110]],\n",
      "\n",
      "       [[101, 102, 101, ..., 113, 100, 111],\n",
      "        [109, 108,  99, ..., 104,  99, 103],\n",
      "        [103, 100, 104, ..., 107,  99, 105],\n",
      "        ...,\n",
      "        [100, 101, 107, ..., 113, 105, 102],\n",
      "        [102,  99, 102, ...,  99, 106, 105],\n",
      "        [101, 106, 103, ..., 107, 116, 111]]], dtype=uint16)]\n"
     ]
    }
   ],
   "source": [
    "exposure_time = 5\n",
    "n_tweezers = 100\n",
    "n_loops = 20\n",
    "make_dataset(exposure_time, n_tweezers, n_loops)"
   ]
  },
  {
   "attachments": {},
   "cell_type": "markdown",
   "metadata": {},
   "source": [
    "# Load a File of Testing/Training Data"
   ]
  },
  {
   "cell_type": "code",
   "execution_count": 47,
   "metadata": {},
   "outputs": [],
   "source": [
    "data = load_dataset(exposure_time)"
   ]
  },
  {
   "attachments": {},
   "cell_type": "markdown",
   "metadata": {},
   "source": [
    "# Make Neural Network Model"
   ]
  },
  {
   "cell_type": "code",
   "execution_count": 48,
   "metadata": {},
   "outputs": [
    {
     "data": {
      "text/plain": [
       "(22130, 16, 16)"
      ]
     },
     "execution_count": 48,
     "metadata": {},
     "output_type": "execute_result"
    }
   ],
   "source": [
    "model = architecture_2(data['training_crops'].shape[1:], [10, 10], [3, 3])\n",
    "data['training_crops'].shape"
   ]
  },
  {
   "cell_type": "code",
   "execution_count": 29,
   "metadata": {},
   "outputs": [
    {
     "name": "stdout",
     "output_type": "stream",
     "text": [
      "Epoch 1/8\n",
      "70942/70942 [==============================] - 213s 3ms/step - loss: 0.2661 - binary_accuracy: 0.8841\n",
      "Epoch 2/8\n",
      "36904/70942 [==============>...............] - ETA: 2:13 - loss: 0.2553 - binary_accuracy: 0.8853"
     ]
    },
    {
     "ename": "KeyboardInterrupt",
     "evalue": "",
     "output_type": "error",
     "traceback": [
      "\u001b[0;31m---------------------------------------------------------------------------\u001b[0m",
      "\u001b[0;31mKeyboardInterrupt\u001b[0m                         Traceback (most recent call last)",
      "Cell \u001b[0;32mIn[29], line 2\u001b[0m\n\u001b[1;32m      1\u001b[0m model\u001b[39m.\u001b[39mcompile(optimizer\u001b[39m=\u001b[39m\u001b[39m'\u001b[39m\u001b[39madam\u001b[39m\u001b[39m'\u001b[39m, loss\u001b[39m=\u001b[39m\u001b[39m'\u001b[39m\u001b[39mbinary_crossentropy\u001b[39m\u001b[39m'\u001b[39m, metrics\u001b[39m=\u001b[39m[\u001b[39m'\u001b[39m\u001b[39mbinary_accuracy\u001b[39m\u001b[39m'\u001b[39m])\n\u001b[0;32m----> 2\u001b[0m history \u001b[39m=\u001b[39m model\u001b[39m.\u001b[39;49mfit(data[\u001b[39m'\u001b[39;49m\u001b[39mtraining_crops\u001b[39;49m\u001b[39m'\u001b[39;49m], data[\u001b[39m'\u001b[39;49m\u001b[39mtraining_labels\u001b[39;49m\u001b[39m'\u001b[39;49m], epochs\u001b[39m=\u001b[39;49m\u001b[39m8\u001b[39;49m)\n",
      "File \u001b[0;32m/opt/anaconda3/lib/python3.8/site-packages/keras/utils/traceback_utils.py:65\u001b[0m, in \u001b[0;36mfilter_traceback.<locals>.error_handler\u001b[0;34m(*args, **kwargs)\u001b[0m\n\u001b[1;32m     63\u001b[0m filtered_tb \u001b[39m=\u001b[39m \u001b[39mNone\u001b[39;00m\n\u001b[1;32m     64\u001b[0m \u001b[39mtry\u001b[39;00m:\n\u001b[0;32m---> 65\u001b[0m     \u001b[39mreturn\u001b[39;00m fn(\u001b[39m*\u001b[39;49margs, \u001b[39m*\u001b[39;49m\u001b[39m*\u001b[39;49mkwargs)\n\u001b[1;32m     66\u001b[0m \u001b[39mexcept\u001b[39;00m \u001b[39mException\u001b[39;00m \u001b[39mas\u001b[39;00m e:\n\u001b[1;32m     67\u001b[0m     filtered_tb \u001b[39m=\u001b[39m _process_traceback_frames(e\u001b[39m.\u001b[39m__traceback__)\n",
      "File \u001b[0;32m/opt/anaconda3/lib/python3.8/site-packages/keras/engine/training.py:1685\u001b[0m, in \u001b[0;36mModel.fit\u001b[0;34m(self, x, y, batch_size, epochs, verbose, callbacks, validation_split, validation_data, shuffle, class_weight, sample_weight, initial_epoch, steps_per_epoch, validation_steps, validation_batch_size, validation_freq, max_queue_size, workers, use_multiprocessing)\u001b[0m\n\u001b[1;32m   1677\u001b[0m \u001b[39mwith\u001b[39;00m tf\u001b[39m.\u001b[39mprofiler\u001b[39m.\u001b[39mexperimental\u001b[39m.\u001b[39mTrace(\n\u001b[1;32m   1678\u001b[0m     \u001b[39m\"\u001b[39m\u001b[39mtrain\u001b[39m\u001b[39m\"\u001b[39m,\n\u001b[1;32m   1679\u001b[0m     epoch_num\u001b[39m=\u001b[39mepoch,\n\u001b[0;32m   (...)\u001b[0m\n\u001b[1;32m   1682\u001b[0m     _r\u001b[39m=\u001b[39m\u001b[39m1\u001b[39m,\n\u001b[1;32m   1683\u001b[0m ):\n\u001b[1;32m   1684\u001b[0m     callbacks\u001b[39m.\u001b[39mon_train_batch_begin(step)\n\u001b[0;32m-> 1685\u001b[0m     tmp_logs \u001b[39m=\u001b[39m \u001b[39mself\u001b[39;49m\u001b[39m.\u001b[39;49mtrain_function(iterator)\n\u001b[1;32m   1686\u001b[0m     \u001b[39mif\u001b[39;00m data_handler\u001b[39m.\u001b[39mshould_sync:\n\u001b[1;32m   1687\u001b[0m         context\u001b[39m.\u001b[39masync_wait()\n",
      "File \u001b[0;32m/opt/anaconda3/lib/python3.8/site-packages/tensorflow/python/util/traceback_utils.py:150\u001b[0m, in \u001b[0;36mfilter_traceback.<locals>.error_handler\u001b[0;34m(*args, **kwargs)\u001b[0m\n\u001b[1;32m    148\u001b[0m filtered_tb \u001b[39m=\u001b[39m \u001b[39mNone\u001b[39;00m\n\u001b[1;32m    149\u001b[0m \u001b[39mtry\u001b[39;00m:\n\u001b[0;32m--> 150\u001b[0m   \u001b[39mreturn\u001b[39;00m fn(\u001b[39m*\u001b[39;49margs, \u001b[39m*\u001b[39;49m\u001b[39m*\u001b[39;49mkwargs)\n\u001b[1;32m    151\u001b[0m \u001b[39mexcept\u001b[39;00m \u001b[39mException\u001b[39;00m \u001b[39mas\u001b[39;00m e:\n\u001b[1;32m    152\u001b[0m   filtered_tb \u001b[39m=\u001b[39m _process_traceback_frames(e\u001b[39m.\u001b[39m__traceback__)\n",
      "File \u001b[0;32m/opt/anaconda3/lib/python3.8/site-packages/tensorflow/python/eager/polymorphic_function/polymorphic_function.py:894\u001b[0m, in \u001b[0;36mFunction.__call__\u001b[0;34m(self, *args, **kwds)\u001b[0m\n\u001b[1;32m    891\u001b[0m compiler \u001b[39m=\u001b[39m \u001b[39m\"\u001b[39m\u001b[39mxla\u001b[39m\u001b[39m\"\u001b[39m \u001b[39mif\u001b[39;00m \u001b[39mself\u001b[39m\u001b[39m.\u001b[39m_jit_compile \u001b[39melse\u001b[39;00m \u001b[39m\"\u001b[39m\u001b[39mnonXla\u001b[39m\u001b[39m\"\u001b[39m\n\u001b[1;32m    893\u001b[0m \u001b[39mwith\u001b[39;00m OptionalXlaContext(\u001b[39mself\u001b[39m\u001b[39m.\u001b[39m_jit_compile):\n\u001b[0;32m--> 894\u001b[0m   result \u001b[39m=\u001b[39m \u001b[39mself\u001b[39;49m\u001b[39m.\u001b[39;49m_call(\u001b[39m*\u001b[39;49margs, \u001b[39m*\u001b[39;49m\u001b[39m*\u001b[39;49mkwds)\n\u001b[1;32m    896\u001b[0m new_tracing_count \u001b[39m=\u001b[39m \u001b[39mself\u001b[39m\u001b[39m.\u001b[39mexperimental_get_tracing_count()\n\u001b[1;32m    897\u001b[0m without_tracing \u001b[39m=\u001b[39m (tracing_count \u001b[39m==\u001b[39m new_tracing_count)\n",
      "File \u001b[0;32m/opt/anaconda3/lib/python3.8/site-packages/tensorflow/python/eager/polymorphic_function/polymorphic_function.py:926\u001b[0m, in \u001b[0;36mFunction._call\u001b[0;34m(self, *args, **kwds)\u001b[0m\n\u001b[1;32m    923\u001b[0m   \u001b[39mself\u001b[39m\u001b[39m.\u001b[39m_lock\u001b[39m.\u001b[39mrelease()\n\u001b[1;32m    924\u001b[0m   \u001b[39m# In this case we have created variables on the first call, so we run the\u001b[39;00m\n\u001b[1;32m    925\u001b[0m   \u001b[39m# defunned version which is guaranteed to never create variables.\u001b[39;00m\n\u001b[0;32m--> 926\u001b[0m   \u001b[39mreturn\u001b[39;00m \u001b[39mself\u001b[39;49m\u001b[39m.\u001b[39;49m_no_variable_creation_fn(\u001b[39m*\u001b[39;49margs, \u001b[39m*\u001b[39;49m\u001b[39m*\u001b[39;49mkwds)  \u001b[39m# pylint: disable=not-callable\u001b[39;00m\n\u001b[1;32m    927\u001b[0m \u001b[39melif\u001b[39;00m \u001b[39mself\u001b[39m\u001b[39m.\u001b[39m_variable_creation_fn \u001b[39mis\u001b[39;00m \u001b[39mnot\u001b[39;00m \u001b[39mNone\u001b[39;00m:\n\u001b[1;32m    928\u001b[0m   \u001b[39m# Release the lock early so that multiple threads can perform the call\u001b[39;00m\n\u001b[1;32m    929\u001b[0m   \u001b[39m# in parallel.\u001b[39;00m\n\u001b[1;32m    930\u001b[0m   \u001b[39mself\u001b[39m\u001b[39m.\u001b[39m_lock\u001b[39m.\u001b[39mrelease()\n",
      "File \u001b[0;32m/opt/anaconda3/lib/python3.8/site-packages/tensorflow/python/eager/polymorphic_function/tracing_compiler.py:143\u001b[0m, in \u001b[0;36mTracingCompiler.__call__\u001b[0;34m(self, *args, **kwargs)\u001b[0m\n\u001b[1;32m    140\u001b[0m \u001b[39mwith\u001b[39;00m \u001b[39mself\u001b[39m\u001b[39m.\u001b[39m_lock:\n\u001b[1;32m    141\u001b[0m   (concrete_function,\n\u001b[1;32m    142\u001b[0m    filtered_flat_args) \u001b[39m=\u001b[39m \u001b[39mself\u001b[39m\u001b[39m.\u001b[39m_maybe_define_function(args, kwargs)\n\u001b[0;32m--> 143\u001b[0m \u001b[39mreturn\u001b[39;00m concrete_function\u001b[39m.\u001b[39;49m_call_flat(\n\u001b[1;32m    144\u001b[0m     filtered_flat_args, captured_inputs\u001b[39m=\u001b[39;49mconcrete_function\u001b[39m.\u001b[39;49mcaptured_inputs)\n",
      "File \u001b[0;32m/opt/anaconda3/lib/python3.8/site-packages/tensorflow/python/eager/polymorphic_function/monomorphic_function.py:1757\u001b[0m, in \u001b[0;36mConcreteFunction._call_flat\u001b[0;34m(self, args, captured_inputs, cancellation_manager)\u001b[0m\n\u001b[1;32m   1753\u001b[0m possible_gradient_type \u001b[39m=\u001b[39m gradients_util\u001b[39m.\u001b[39mPossibleTapeGradientTypes(args)\n\u001b[1;32m   1754\u001b[0m \u001b[39mif\u001b[39;00m (possible_gradient_type \u001b[39m==\u001b[39m gradients_util\u001b[39m.\u001b[39mPOSSIBLE_GRADIENT_TYPES_NONE\n\u001b[1;32m   1755\u001b[0m     \u001b[39mand\u001b[39;00m executing_eagerly):\n\u001b[1;32m   1756\u001b[0m   \u001b[39m# No tape is watching; skip to running the function.\u001b[39;00m\n\u001b[0;32m-> 1757\u001b[0m   \u001b[39mreturn\u001b[39;00m \u001b[39mself\u001b[39m\u001b[39m.\u001b[39m_build_call_outputs(\u001b[39mself\u001b[39;49m\u001b[39m.\u001b[39;49m_inference_function\u001b[39m.\u001b[39;49mcall(\n\u001b[1;32m   1758\u001b[0m       ctx, args, cancellation_manager\u001b[39m=\u001b[39;49mcancellation_manager))\n\u001b[1;32m   1759\u001b[0m forward_backward \u001b[39m=\u001b[39m \u001b[39mself\u001b[39m\u001b[39m.\u001b[39m_select_forward_and_backward_functions(\n\u001b[1;32m   1760\u001b[0m     args,\n\u001b[1;32m   1761\u001b[0m     possible_gradient_type,\n\u001b[1;32m   1762\u001b[0m     executing_eagerly)\n\u001b[1;32m   1763\u001b[0m forward_function, args_with_tangents \u001b[39m=\u001b[39m forward_backward\u001b[39m.\u001b[39mforward()\n",
      "File \u001b[0;32m/opt/anaconda3/lib/python3.8/site-packages/tensorflow/python/eager/polymorphic_function/monomorphic_function.py:381\u001b[0m, in \u001b[0;36m_EagerDefinedFunction.call\u001b[0;34m(self, ctx, args, cancellation_manager)\u001b[0m\n\u001b[1;32m    379\u001b[0m \u001b[39mwith\u001b[39;00m _InterpolateFunctionError(\u001b[39mself\u001b[39m):\n\u001b[1;32m    380\u001b[0m   \u001b[39mif\u001b[39;00m cancellation_manager \u001b[39mis\u001b[39;00m \u001b[39mNone\u001b[39;00m:\n\u001b[0;32m--> 381\u001b[0m     outputs \u001b[39m=\u001b[39m execute\u001b[39m.\u001b[39;49mexecute(\n\u001b[1;32m    382\u001b[0m         \u001b[39mstr\u001b[39;49m(\u001b[39mself\u001b[39;49m\u001b[39m.\u001b[39;49msignature\u001b[39m.\u001b[39;49mname),\n\u001b[1;32m    383\u001b[0m         num_outputs\u001b[39m=\u001b[39;49m\u001b[39mself\u001b[39;49m\u001b[39m.\u001b[39;49m_num_outputs,\n\u001b[1;32m    384\u001b[0m         inputs\u001b[39m=\u001b[39;49margs,\n\u001b[1;32m    385\u001b[0m         attrs\u001b[39m=\u001b[39;49mattrs,\n\u001b[1;32m    386\u001b[0m         ctx\u001b[39m=\u001b[39;49mctx)\n\u001b[1;32m    387\u001b[0m   \u001b[39melse\u001b[39;00m:\n\u001b[1;32m    388\u001b[0m     outputs \u001b[39m=\u001b[39m execute\u001b[39m.\u001b[39mexecute_with_cancellation(\n\u001b[1;32m    389\u001b[0m         \u001b[39mstr\u001b[39m(\u001b[39mself\u001b[39m\u001b[39m.\u001b[39msignature\u001b[39m.\u001b[39mname),\n\u001b[1;32m    390\u001b[0m         num_outputs\u001b[39m=\u001b[39m\u001b[39mself\u001b[39m\u001b[39m.\u001b[39m_num_outputs,\n\u001b[0;32m   (...)\u001b[0m\n\u001b[1;32m    393\u001b[0m         ctx\u001b[39m=\u001b[39mctx,\n\u001b[1;32m    394\u001b[0m         cancellation_manager\u001b[39m=\u001b[39mcancellation_manager)\n",
      "File \u001b[0;32m/opt/anaconda3/lib/python3.8/site-packages/tensorflow/python/eager/execute.py:52\u001b[0m, in \u001b[0;36mquick_execute\u001b[0;34m(op_name, num_outputs, inputs, attrs, ctx, name)\u001b[0m\n\u001b[1;32m     50\u001b[0m \u001b[39mtry\u001b[39;00m:\n\u001b[1;32m     51\u001b[0m   ctx\u001b[39m.\u001b[39mensure_initialized()\n\u001b[0;32m---> 52\u001b[0m   tensors \u001b[39m=\u001b[39m pywrap_tfe\u001b[39m.\u001b[39;49mTFE_Py_Execute(ctx\u001b[39m.\u001b[39;49m_handle, device_name, op_name,\n\u001b[1;32m     53\u001b[0m                                       inputs, attrs, num_outputs)\n\u001b[1;32m     54\u001b[0m \u001b[39mexcept\u001b[39;00m core\u001b[39m.\u001b[39m_NotOkStatusException \u001b[39mas\u001b[39;00m e:\n\u001b[1;32m     55\u001b[0m   \u001b[39mif\u001b[39;00m name \u001b[39mis\u001b[39;00m \u001b[39mnot\u001b[39;00m \u001b[39mNone\u001b[39;00m:\n",
      "\u001b[0;31mKeyboardInterrupt\u001b[0m: "
     ]
    }
   ],
   "source": [
    "model.compile(optimizer='adam', loss='binary_crossentropy', metrics=['binary_accuracy'])\n",
    "history = model.fit(data['training_crops'], data['training_labels'], epochs=8)"
   ]
  },
  {
   "cell_type": "code",
   "execution_count": null,
   "metadata": {},
   "outputs": [],
   "source": []
  }
 ],
 "metadata": {
  "kernelspec": {
   "display_name": "base",
   "language": "python",
   "name": "python3"
  },
  "language_info": {
   "codemirror_mode": {
    "name": "ipython",
    "version": 3
   },
   "file_extension": ".py",
   "mimetype": "text/x-python",
   "name": "python",
   "nbconvert_exporter": "python",
   "pygments_lexer": "ipython3",
   "version": "3.8.16"
  },
  "orig_nbformat": 4
 },
 "nbformat": 4,
 "nbformat_minor": 2
}
