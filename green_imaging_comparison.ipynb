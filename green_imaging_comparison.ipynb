{
 "cells": [
  {
   "attachments": {},
   "cell_type": "markdown",
   "metadata": {},
   "source": [
    "# Stuff for Machine Learning"
   ]
  },
  {
   "cell_type": "code",
   "execution_count": 1,
   "metadata": {},
   "outputs": [
    {
     "name": "stderr",
     "output_type": "stream",
     "text": [
      "2023-06-30 14:09:27.154865: I tensorflow/core/platform/cpu_feature_guard.cc:182] This TensorFlow binary is optimized to use available CPU instructions in performance-critical operations.\n",
      "To enable the following instructions: AVX2 AVX512F AVX512_VNNI FMA, in other operations, rebuild TensorFlow with the appropriate compiler flags.\n"
     ]
    }
   ],
   "source": [
    "import numpy as np\n",
    "import matplotlib.pyplot as plt\n",
    "from scipy.io import loadmat\n",
    "import os\n",
    "\n",
    "from tensorflow.keras import datasets, layers, models, optimizers\n",
    "\n",
    "from ImagingSoftware.ImageProcessing import *\n",
    "from ImagingSoftware.ImageClassifier import *\n",
    "\n",
    "import logging\n",
    "logging.basicConfig(level=logging.INFO)"
   ]
  },
  {
   "cell_type": "code",
   "execution_count": 2,
   "metadata": {},
   "outputs": [],
   "source": [
    "def make_training_dataset(exposure_time, n_tweezers, n_loops, testing_fraction=0.1):\n",
    "    path = f\"Data/06:23:23/imaging exposure time = {exposure_time}ms/\"\n",
    "    crops = []\n",
    "    labels = []\n",
    "    positions = None\n",
    "    for file in os.listdir(path):\n",
    "        if file.endswith('.mat'):\n",
    "            data = loadmat(path + file)\n",
    "            if positions is None:\n",
    "                processor = GreenImageProcessor(data['stack'], n_tweezers, n_loops)\n",
    "                processor.plot()\n",
    "                positions = processor.tweezer_positions\n",
    "            else:\n",
    "                processor = GreenImageProcessor(data['stack'], n_tweezers, n_loops, tweezer_positions=positions)\n",
    "            file_crops, file_labels = processor.make_dataset()\n",
    "            crops.append(file_crops)\n",
    "            labels.append(file_labels)\n",
    "    crops = np.concatenate(crops, axis=0)\n",
    "    labels = np.concatenate(labels, axis=0)\n",
    "    testing_indices = np.random.choice(len(crops), int(len(crops) * testing_fraction), replace=False)\n",
    "    np.savez_compressed(path + f\"{exposure_time}ms training dataset\",\n",
    "                        training_crops=np.delete(crops, testing_indices, axis=0),\n",
    "                        training_labels=np.delete(labels, testing_indices, axis=0),\n",
    "                        testing_crops=crops[testing_indices],\n",
    "                        testing_labels=labels[testing_indices],\n",
    "                        positions=positions)\n",
    "    return\n",
    "\n",
    "def make_fidelity_dataset(exposure_time, n_tweezers, n_loops):\n",
    "    path = f\"Data/06:23:23/imaging exposure time = {exposure_time}ms/\"\n",
    "    crops = []\n",
    "    positions = None\n",
    "    for file in os.listdir(path):\n",
    "        if file.endswith('.mat'):\n",
    "            data = loadmat(path + file)\n",
    "            if positions is None:\n",
    "                processor = GreenImageProcessor(data['stack'], n_tweezers, n_loops)\n",
    "                positions = processor.tweezer_positions\n",
    "            else:\n",
    "                processor = GreenImageProcessor(data['stack'], n_tweezers, n_loops, tweezer_positions=positions)\n",
    "            crops.append(processor.crop_tweezer(3))\n",
    "    crops = np.concatenate(crops, axis=0)\n",
    "    np.savez_compressed(path + f\"{exposure_time}ms fidelity analysis dataset\", crops=crops)\n",
    "    return crops\n",
    "\n",
    "\n",
    "def load_training_dataset(exposure_time):\n",
    "    path = f\"Data/06:23:23/imaging exposure time = {exposure_time}ms/\"\n",
    "    return np.load(path + f\"{exposure_time}ms training dataset.npz\", allow_pickle=True)\n",
    "\n",
    "def load_fidelity_dataset(exposure_time):\n",
    "    path = f\"Data/06:23:23/imaging exposure time = {exposure_time}ms/\"\n",
    "    return np.load(path + f\"{exposure_time}ms fidelity analysis dataset.npz\", allow_pickle=True)"
   ]
  },
  {
   "cell_type": "code",
   "execution_count": 3,
   "metadata": {},
   "outputs": [],
   "source": [
    "def architecture_0(input_shape, n_filters, filter_size):\n",
    "    network = models.Sequential()\n",
    "    network.add(layers.Input(shape=(*input_shape, 1)))\n",
    "    network.add(layers.Conv2D(n_filters, filter_size, strides=1, activation='relu'))\n",
    "    network.add(layers.MaxPooling2D(pool_size=(2, 2)))\n",
    "    network.add(layers.Flatten())\n",
    "    network.add(layers.Dense(2, activation='sigmoid'))\n",
    "    return network\n",
    "\n",
    "def architecture_1(input_shape, n_filters, filter_size):\n",
    "    network = models.Sequential()\n",
    "    network.add(layers.Input(shape=(*input_shape, 1)))\n",
    "    network.add(layers.Conv2D(n_filters[0], filter_size[0], strides=1, activation='relu'))\n",
    "    network.add(layers.Conv2D(n_filters[1], filter_size[1], strides=1, activation='relu'))\n",
    "    network.add(layers.Flatten())\n",
    "    network.add(layers.Dense(2, activation='sigmoid'))\n",
    "    return network   \n",
    "\n",
    "def architecture_2(input_shape, n_filters, filter_size):\n",
    "    network = models.Sequential()\n",
    "    network.add(layers.Input(shape=(*input_shape, 1)))\n",
    "    network.add(layers.Conv2D(n_filters[0], filter_size[0], strides=1, activation='relu'))\n",
    "    network.add(layers.MaxPooling2D(pool_size=(2, 2)))\n",
    "    network.add(layers.Conv2D(n_filters[1], filter_size[1], strides=1, activation='relu'))\n",
    "    network.add(layers.Flatten())\n",
    "    network.add(layers.Dense(2, activation='sigmoid'))\n",
    "    return network\n",
    "\n",
    "def architecture_3(input_shape, n_filters, filter_size):\n",
    "    network = models.Sequential()\n",
    "    network.add(layers.Input(shape=(*input_shape, 1)))\n",
    "    network.add(layers.Conv2D(n_filters[0], filter_size[0], strides=1, activation='relu'))\n",
    "    network.add(layers.MaxPooling2D(pool_size=(2, 2)))\n",
    "    network.add(layers.Conv2D(n_filters[1], filter_size[1], strides=1, activation='relu'))\n",
    "    network.add(layers.Flatten())\n",
    "    network.add(layers.Dense(9, activation='sigmoid'))\n",
    "    network.add(layers.Dense(2, activation='sigmoid'))\n",
    "    return network"
   ]
  },
  {
   "attachments": {},
   "cell_type": "markdown",
   "metadata": {},
   "source": [
    "# Make a File of Training/Testing Data\n"
   ]
  },
  {
   "cell_type": "code",
   "execution_count": 4,
   "metadata": {},
   "outputs": [],
   "source": [
    "exposure_time = 25\n",
    "n_tweezers = 100\n",
    "n_loops = 20\n",
    "path = f\"Data/06:23:23/imaging exposure time = {exposure_time}ms/\"\n",
    "#make_training_dataset(exposure_time, n_tweezers, n_loops)\n",
    "#make_fidelity_dataset(exposure_time, n_tweezers, n_loops)\n"
   ]
  },
  {
   "attachments": {},
   "cell_type": "markdown",
   "metadata": {},
   "source": [
    "# Load a File of Testing/Training Data"
   ]
  },
  {
   "cell_type": "code",
   "execution_count": 5,
   "metadata": {},
   "outputs": [
    {
     "name": "stdout",
     "output_type": "stream",
     "text": [
      "(1975432, 2)\n",
      "(219492, 2)\n"
     ]
    }
   ],
   "source": [
    "training_data = load_training_dataset(exposure_time)\n",
    "fidelity_data = load_fidelity_dataset(exposure_time)\n",
    "print(training_data['training_labels'].shape)\n",
    "print(training_data['testing_labels'].shape)\n",
    "positions = training_data['positions']"
   ]
  },
  {
   "cell_type": "code",
   "execution_count": null,
   "metadata": {},
   "outputs": [],
   "source": []
  },
  {
   "attachments": {},
   "cell_type": "markdown",
   "metadata": {},
   "source": [
    "# Test Model Fidelities"
   ]
  },
  {
   "cell_type": "code",
   "execution_count": 19,
   "metadata": {},
   "outputs": [
    {
     "name": "stdout",
     "output_type": "stream",
     "text": [
      "6860/6860 [==============================] - 10s 1ms/step - loss: 0.0081 - binary_accuracy: 0.9983\n"
     ]
    }
   ],
   "source": [
    "classifier = ImageClassifier(filename=path + 'model2.h5')\n",
    "classifier.evaluate(training_data['testing_crops'], training_data['testing_labels'])"
   ]
  },
  {
   "cell_type": "code",
   "execution_count": 20,
   "metadata": {},
   "outputs": [
    {
     "name": "stdout",
     "output_type": "stream",
     "text": [
      "80938/80938 [==============================] - 98s 1ms/step\n"
     ]
    },
    {
     "data": {
      "image/png": "[encoded data removed]",
      "text/plain": [
       "<Figure size 1280x480 with 1 Axes>"
      ]
     },
     "metadata": {},
     "output_type": "display_data"
    },
    {
     "data": {
      "text/plain": [
       "(array([0.00527317, 0.00471244, 0.00731404, 0.00606721, 0.00594393,\n",
       "        0.00502858, 0.00514035, 0.00452806, 0.00512284, 0.0064759 ,\n",
       "        0.00456505, 0.00575177, 0.01641614, 0.00563294, 0.0038842 ,\n",
       "        0.0047656 , 0.00626035, 0.00571021, 0.00708346, 0.00342857,\n",
       "        0.00437198, 0.00473564, 0.00510145, 0.00690335, 0.00486007,\n",
       "        0.00530504, 0.02083672, 0.00525559, 0.00472207, 0.00376238,\n",
       "        0.00524341, 0.00692409, 0.00807393, 0.00530928, 0.0039895 ,\n",
       "        0.00418473, 0.00489122, 0.00517349, 0.00638276, 0.00442059,\n",
       "        0.00483497, 0.01517888, 0.00382226, 0.00354001, 0.00546161,\n",
       "        0.00567801, 0.00619611, 0.00466942, 0.00459713, 0.00496251,\n",
       "        0.00451456, 0.00424076, 0.00596898, 0.00419925, 0.00590356,\n",
       "        0.01689661, 0.0060396 , 0.00408183, 0.00400996, 0.00536102,\n",
       "        0.00495868, 0.00408163, 0.00406542, 0.00432498, 0.00319285,\n",
       "        0.00356465, 0.00448991, 0.00400335, 0.00326193, 0.00835073,\n",
       "        0.00485618, 0.00414796, 0.00454024, 0.00603311, 0.00381091,\n",
       "        0.00549005, 0.00384934, 0.00356425, 0.00368333, 0.00378037,\n",
       "        0.00387745, 0.00620194, 0.00460243, 0.01020511, 0.00347175,\n",
       "        0.00378534, 0.00467007, 0.00411987, 0.00520439, 0.00609882,\n",
       "        0.00524609, 0.00448106, 0.00387825, 0.00463269, 0.00404763,\n",
       "        0.00699085, 0.00481711, 0.00516149, 0.01479436, 0.00598268]),\n",
       " array([0.01189045, 0.01383238, 0.02044835, 0.01622195, 0.01514049,\n",
       "        0.01244991, 0.00898903, 0.00996043, 0.01318519, 0.02030201,\n",
       "        0.0136253 , 0.01732673, 0.05657709, 0.0163728 , 0.01080505,\n",
       "        0.00957365, 0.01800977, 0.01173862, 0.02047515, 0.010947  ,\n",
       "        0.01180491, 0.00895221, 0.00903824, 0.01814333, 0.0117384 ,\n",
       "        0.01237553, 0.05052006, 0.01733497, 0.01297483, 0.01214789,\n",
       "        0.01865672, 0.02018379, 0.02392112, 0.01404321, 0.01135242,\n",
       "        0.0117433 , 0.01343355, 0.0133452 , 0.01905972, 0.01061355,\n",
       "        0.01550526, 0.05620479, 0.01414141, 0.00989357, 0.01389295,\n",
       "        0.01536807, 0.01719638, 0.01478518, 0.01451327, 0.01045971,\n",
       "        0.01467762, 0.01540261, 0.02040066, 0.01549787, 0.01528417,\n",
       "        0.0487207 , 0.01535312, 0.01442481, 0.01864245, 0.02028986,\n",
       "        0.01997875, 0.0206135 , 0.01674107, 0.01782042, 0.01592518,\n",
       "        0.01612526, 0.01987839, 0.01659845, 0.01067416, 0.02499599,\n",
       "        0.02083333, 0.01354863, 0.01439095, 0.02601156, 0.01954143,\n",
       "        0.02087979, 0.01306702, 0.01701702, 0.01624549, 0.01766531,\n",
       "        0.01342685, 0.01991266, 0.01429619, 0.03206413, 0.01729757,\n",
       "        0.01377246, 0.00989712, 0.01402295, 0.02192243, 0.01638089,\n",
       "        0.02056189, 0.01677721, 0.01215971, 0.01426968, 0.01769912,\n",
       "        0.01960784, 0.01201889, 0.0150507 , 0.05248126, 0.01553114]))"
      ]
     },
     "execution_count": 20,
     "metadata": {},
     "output_type": "execute_result"
    }
   ],
   "source": [
    "classifier.fidelity_analysis(fidelity_data['crops'], n_tweezers, n_loops, plot=True)"
   ]
  },
  {
   "attachments": {},
   "cell_type": "markdown",
   "metadata": {},
   "source": [
    "# Thresholding Stuff"
   ]
  },
  {
   "cell_type": "code",
   "execution_count": 6,
   "metadata": {},
   "outputs": [],
   "source": [
    "import sys, os, glob\n",
    "import warnings\n",
    "import numpy as np\n",
    "from tqdm.notebook import tqdm\n",
    "\n",
    "import matplotlib\n",
    "import matplotlib.pyplot as plt\n",
    "\n",
    "import scipy as sp\n",
    "from scipy.optimize import curve_fit\n",
    "warnings.filterwarnings(\"ignore\")\n",
    "import pandas as pd\n",
    "from analysis_thompsonlab_amo import *\n",
    "#Setting the default style of our plots.\n",
    "\n",
    "plt.style.use('seaborn-muted')\n",
    "matplotlib.rcParams['font.size'] = 10\n",
    "matplotlib.rcParams['figure.autolayout'] = True\n",
    "matplotlib.rcParams['figure.figsize'] = (5.5, 4)\n",
    "matplotlib.rcParams['legend.fontsize'] = 'small'\n",
    "matplotlib.rcParams['legend.title_fontsize'] = 'small'\n",
    "matplotlib.rcParams['legend.loc'] = 'best'\n",
    "plotOptions={'marker':'o', 'linestyle':'-', 'linewidth':0.5, 'alpha':0.8, 'elinewidth':2}"
   ]
  },
  {
   "cell_type": "code",
   "execution_count": 7,
   "metadata": {},
   "outputs": [],
   "source": [
    "relpath = f\"Data/06:23:23/imaging exposure time = {exposure_time}ms/\"\n",
    "prefix = \"/Users/jackmango/Desktop/QUIRP - Work/Princeton\"\n",
    "data = dataset(relpath, prefix)"
   ]
  },
  {
   "cell_type": "code",
   "execution_count": 8,
   "metadata": {},
   "outputs": [],
   "source": [
    "%matplotlib inline\n",
    "data.addDir(relpath, prefix)\n",
    "includefn = lambda f: True # if f.params['imagingDetuning0_MHz'] == -0.55 else False\n",
    "dhist = measurement(data, ['all'], includefn=includefn)\n",
    "\n",
    "nTweezers = 100\n",
    "histy = weighted_histogram_556(dhist.files, positions=positions.astype(int), rAtom=2, exclude1st = True, nLoops = 20)"
   ]
  },
  {
   "cell_type": "code",
   "execution_count": 9,
   "metadata": {},
   "outputs": [],
   "source": [
    "#positions = histy.findPositions(plot=True)"
   ]
  },
  {
   "cell_type": "code",
   "execution_count": 10,
   "metadata": {},
   "outputs": [
    {
     "data": {
      "image/png": "[encoded data removed]",
      "text/plain": [
       "<Figure size 300x300 with 1 Axes>"
      ]
     },
     "metadata": {},
     "output_type": "display_data"
    },
    {
     "ename": "TypeError",
     "evalue": "slice indices must be integers or None or have an __index__ method",
     "output_type": "error",
     "traceback": [
      "\u001b[0;31m---------------------------------------------------------------------------\u001b[0m",
      "\u001b[0;31mTypeError\u001b[0m                                 Traceback (most recent call last)",
      "Cell \u001b[0;32mIn[10], line 4\u001b[0m\n\u001b[1;32m      1\u001b[0m histy\u001b[39m.\u001b[39mcalculateWeights(bgExcludeRegion \u001b[39m=\u001b[39m [[\u001b[39m10\u001b[39m,\u001b[39m5\u001b[39m],[\u001b[39m73\u001b[39m,\u001b[39m75\u001b[39m]])\n\u001b[1;32m      3\u001b[0m fitParams \u001b[39m=\u001b[39m [\u001b[39m5\u001b[39m \u001b[39mfor\u001b[39;00m _ \u001b[39min\u001b[39;00m \u001b[39mrange\u001b[39m(nTweezers)]\n\u001b[0;32m----> 4\u001b[0m histy\u001b[39m.\u001b[39;49mapplyWeights(weights\u001b[39m=\u001b[39;49m\u001b[39mTrue\u001b[39;49;00m, fitParams\u001b[39m=\u001b[39;49mfitParams)\n\u001b[1;32m      6\u001b[0m histy\u001b[39m.\u001b[39mthresholds[\u001b[39m41\u001b[39m]\u001b[39m=\u001b[39m \u001b[39m10000\u001b[39m\n\u001b[1;32m      8\u001b[0m probs \u001b[39m=\u001b[39m histy\u001b[39m.\u001b[39mfidelityAnalysis(plot\u001b[39m=\u001b[39m\u001b[39mTrue\u001b[39;00m)\n",
      "File \u001b[0;32m~/Desktop/QUIRP - Work/Princeton/analysis_thompsonlab_amo/images_processing/histograms.py:180\u001b[0m, in \u001b[0;36mweighted_histogram_556.applyWeights\u001b[0;34m(self, weights, transpose, fitParams)\u001b[0m\n\u001b[1;32m    178\u001b[0m \u001b[39mself\u001b[39m\u001b[39m.\u001b[39mweightedImages \u001b[39m=\u001b[39m weightedImages\n\u001b[1;32m    179\u001b[0m \u001b[39mself\u001b[39m\u001b[39m.\u001b[39mmask \u001b[39m=\u001b[39m mask\n\u001b[0;32m--> 180\u001b[0m counts \u001b[39m=\u001b[39m getCounts(weightedImages, \u001b[39mself\u001b[39;49m\u001b[39m.\u001b[39;49mpositions, rAtom\u001b[39m=\u001b[39;49m\u001b[39mself\u001b[39;49m\u001b[39m.\u001b[39;49mrAtom)\n\u001b[1;32m    181\u001b[0m fits \u001b[39m=\u001b[39m []\n\u001b[1;32m    182\u001b[0m r2 \u001b[39m=\u001b[39m []\n",
      "File \u001b[0;32m~/Desktop/QUIRP - Work/Princeton/analysis_thompsonlab_amo/images_processing/imagestack_functions.py:45\u001b[0m, in \u001b[0;36mgetCounts\u001b[0;34m(imageStack, positions, rAtom, weights)\u001b[0m\n\u001b[1;32m     42\u001b[0m \u001b[39mif\u001b[39;00m weights \u001b[39mis\u001b[39;00m \u001b[39mnot\u001b[39;00m \u001b[39mNone\u001b[39;00m:\n\u001b[1;32m     43\u001b[0m     imageStack \u001b[39m=\u001b[39m imageStack \u001b[39m*\u001b[39m weights\n\u001b[1;32m     44\u001b[0m \u001b[39mreturn\u001b[39;00m np\u001b[39m.\u001b[39marray(\n\u001b[0;32m---> 45\u001b[0m     [imageStack[:, p[\u001b[39m0\u001b[39m] \u001b[39m-\u001b[39m rAtom: p[\u001b[39m0\u001b[39m] \u001b[39m+\u001b[39m rAtom \u001b[39m+\u001b[39m \u001b[39m1\u001b[39m, p[\u001b[39m1\u001b[39m] \u001b[39m-\u001b[39m rAtom: p[\u001b[39m1\u001b[39m] \u001b[39m+\u001b[39m rAtom \u001b[39m+\u001b[39m \u001b[39m1\u001b[39m]\u001b[39m.\u001b[39msum(axis\u001b[39m=\u001b[39m(\u001b[39m1\u001b[39m, \u001b[39m2\u001b[39m)) \u001b[39mfor\u001b[39;00m p \u001b[39min\u001b[39;00m\n\u001b[1;32m     46\u001b[0m      positions])\u001b[39m.\u001b[39mT\n",
      "File \u001b[0;32m~/Desktop/QUIRP - Work/Princeton/analysis_thompsonlab_amo/images_processing/imagestack_functions.py:45\u001b[0m, in \u001b[0;36m<listcomp>\u001b[0;34m(.0)\u001b[0m\n\u001b[1;32m     42\u001b[0m \u001b[39mif\u001b[39;00m weights \u001b[39mis\u001b[39;00m \u001b[39mnot\u001b[39;00m \u001b[39mNone\u001b[39;00m:\n\u001b[1;32m     43\u001b[0m     imageStack \u001b[39m=\u001b[39m imageStack \u001b[39m*\u001b[39m weights\n\u001b[1;32m     44\u001b[0m \u001b[39mreturn\u001b[39;00m np\u001b[39m.\u001b[39marray(\n\u001b[0;32m---> 45\u001b[0m     [imageStack[:, p[\u001b[39m0\u001b[39;49m] \u001b[39m-\u001b[39;49m rAtom: p[\u001b[39m0\u001b[39;49m] \u001b[39m+\u001b[39;49m rAtom \u001b[39m+\u001b[39;49m \u001b[39m1\u001b[39;49m, p[\u001b[39m1\u001b[39;49m] \u001b[39m-\u001b[39;49m rAtom: p[\u001b[39m1\u001b[39;49m] \u001b[39m+\u001b[39;49m rAtom \u001b[39m+\u001b[39;49m \u001b[39m1\u001b[39;49m]\u001b[39m.\u001b[39msum(axis\u001b[39m=\u001b[39m(\u001b[39m1\u001b[39m, \u001b[39m2\u001b[39m)) \u001b[39mfor\u001b[39;00m p \u001b[39min\u001b[39;00m\n\u001b[1;32m     46\u001b[0m      positions])\u001b[39m.\u001b[39mT\n",
      "\u001b[0;31mTypeError\u001b[0m: slice indices must be integers or None or have an __index__ method"
     ]
    }
   ],
   "source": [
    "histy.calculateWeights(bgExcludeRegion = [[10,5],[73,75]])\n",
    "\n",
    "fitParams = [5 for _ in range(nTweezers)]\n",
    "histy.applyWeights(weights=True, fitParams=fitParams)\n",
    "\n",
    "histy.thresholds[41]= 10000\n",
    "\n",
    "probs = histy.fidelityAnalysis(plot=True)"
   ]
  },
  {
   "cell_type": "code",
   "execution_count": null,
   "metadata": {},
   "outputs": [],
   "source": []
  },
  {
   "cell_type": "code",
   "execution_count": null,
   "metadata": {},
   "outputs": [],
   "source": []
  }
 ],
 "metadata": {
  "kernelspec": {
   "display_name": "base",
   "language": "python",
   "name": "python3"
  },
  "language_info": {
   "codemirror_mode": {
    "name": "ipython",
    "version": 3
   },
   "file_extension": ".py",
   "mimetype": "text/x-python",
   "name": "python",
   "nbconvert_exporter": "python",
   "pygments_lexer": "ipython3",
   "version": "3.8.16"
  },
  "orig_nbformat": 4
 },
 "nbformat": 4,
 "nbformat_minor": 2
}
