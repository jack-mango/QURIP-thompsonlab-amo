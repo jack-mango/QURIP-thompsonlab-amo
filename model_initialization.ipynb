{
 "cells": [
  {
   "cell_type": "code",
   "execution_count": null,
   "metadata": {},
   "outputs": [],
   "source": [
    "from tensorflow.keras import datasets, layers, models, optimizers\n",
    "import numpy as np"
   ]
  },
  {
   "cell_type": "code",
   "execution_count": null,
   "metadata": {},
   "outputs": [],
   "source": [
    "input_shape = np.array([18, 18], dtype=int)"
   ]
  },
  {
   "cell_type": "code",
   "execution_count": null,
   "metadata": {},
   "outputs": [],
   "source": [
    "def architecture_0(input_shape, n_filters, filter_size):\n",
    "    network = models.Sequential()\n",
    "    network.add(layers.Input(shape=(*input_shape, 1)))\n",
    "    network.add(layers.Conv2D(n_filters, filter_size, strides=1, activation='relu'))\n",
    "    network.add(layers.MaxPooling2D(pool_size=(2, 2)))\n",
    "    network.add(layers.Flatten())\n",
    "    network.add(layers.Dense(2, activation='sigmoid'))\n",
    "    return network\n",
    "\n",
    "def architecture_1(input_shape, n_filters, filter_size):\n",
    "    print(type(filter_size[0]), filter_size[1])\n",
    "    network = models.Sequential()\n",
    "    network.add(layers.Input(shape=(*input_shape, 1)))\n",
    "    network.add(layers.Conv2D(n_filters[0], filter_size[0], strides=1, activation='relu'))\n",
    "    network.add(layers.Conv2D(n_filters[1], filter_size[1], strides=1, activation='relu'))\n",
    "    network.add(layers.Flatten())\n",
    "    network.add(layers.Dense(2, activation='sigmoid'))\n",
    "    return network   \n",
    "\n",
    "def architecture_2(input_shape, n_filters, filter_size):\n",
    "    network = models.Sequential()\n",
    "    network.add(layers.Input(shape=(*input_shape, 1)))\n",
    "    network.add(layers.Conv2D(n_filters[0], filter_size[0], strides=1, activation='relu'))\n",
    "    network.add(layers.MaxPooling2D(pool_size=(2, 2)))\n",
    "    network.add(layers.Conv2D(n_filters[1], filter_size[1], strides=1, activation='relu'))\n",
    "    network.add(layers.Flatten())\n",
    "    network.add(layers.Dense(2, activation='sigmoid'))\n",
    "    return network\n",
    "\n",
    "def architecture_3(input_shape, n_filters, filter_size):\n",
    "    network = models.Sequential()\n",
    "    network.add(layers.Input(shape=(*input_shape, 1)))\n",
    "    network.add(layers.Conv2D(n_filters[0], filter_size[0], strides=1, activation='relu'))\n",
    "    network.add(layers.MaxPooling2D(pool_size=(2, 2)))\n",
    "    network.add(layers.Conv2D(n_filters[1], filter_size[1], strides=1, activation='relu'))\n",
    "    network.add(layers.Flatten())\n",
    "    network.add(layers.Dense(9, activation='sigmoid'))\n",
    "    network.add(layers.Dense(2, activation='sigmoid'))\n",
    "    return network"
   ]
  },
  {
   "cell_type": "code",
   "execution_count": null,
   "metadata": {},
   "outputs": [],
   "source": [
    "path = \"Models/A0-/\"\n",
    "for n_filters in np.arange(6, 13, 2):\n",
    "    for filter_size in [3, 5]:\n",
    "        network = architecture_0(input_shape, n_filters, filter_size)\n",
    "        network.compile(optimizer='adam', loss='binary_crossentropy', metrics=['binary_accuracy'])\n",
    "        network.save(path + f\"A0-F{n_filters}-S{filter_size}\")"
   ]
  },
  {
   "cell_type": "code",
   "execution_count": null,
   "metadata": {},
   "outputs": [],
   "source": [
    "path = \"Models/A1-/\"\n",
    "for n_filters1 in np.arange(6, 13, 2):\n",
    "    for n_filters2 in np.arange(6, 13, 2):\n",
    "        for filter_size1 in [3, 5]:\n",
    "            for filter_size2 in [3, 5]:\n",
    "                network = architecture_1(input_shape, [n_filters1, n_filters2], [filter_size1, filter_size2])\n",
    "                network.compile(optimizer='adam', loss='binary_crossentropy', metrics=['binary_accuracy'])\n",
    "                network.save(path + f\"A1-F{n_filters1}{n_filters2}-S{filter_size1}{filter_size2}\")"
   ]
  },
  {
   "cell_type": "code",
   "execution_count": null,
   "metadata": {},
   "outputs": [],
   "source": [
    "path = \"Models/A2-/\"\n",
    "for n_filters1 in np.arange(6, 13, 2):\n",
    "    for n_filters2 in np.arange(6, 13, 2):\n",
    "        for filter_size1 in [3, 5]:\n",
    "            for filter_size2 in [3, 5]:\n",
    "                network = architecture_2(input_shape, [n_filters1, n_filters2], [filter_size1, filter_size2])\n",
    "                network.compile(optimizer='adam', loss='binary_crossentropy', metrics=['binary_accuracy'])\n",
    "                network.save(path + f\"A2-F{n_filters1}{n_filters2}-S{filter_size1}{filter_size2}\")"
   ]
  },
  {
   "cell_type": "code",
   "execution_count": null,
   "metadata": {},
   "outputs": [],
   "source": [
    "path = \"Models/A3-/\"\n",
    "for n_filters1 in np.arange(6, 13, 2):\n",
    "    for n_filters2 in np.arange(6, 13, 2):\n",
    "        for filter_size1 in [3, 5]:\n",
    "            for filter_size2 in [3, 5]:\n",
    "                network = architecture_3(input_shape, [n_filters1, n_filters2], [filter_size1, filter_size2])\n",
    "                network.compile(optimizer='adam', loss='binary_crossentropy', metrics=['binary_accuracy'])\n",
    "                network.save(path + f\"A3-F{n_filters1}{n_filters2}-S{filter_size1}{filter_size2}\")"
   ]
  },
  {
   "cell_type": "code",
   "execution_count": null,
   "metadata": {},
   "outputs": [],
   "source": []
  }
 ],
 "metadata": {
  "kernelspec": {
   "display_name": "base",
   "language": "python",
   "name": "python3"
  },
  "language_info": {
   "codemirror_mode": {
    "name": "ipython",
    "version": 3
   },
   "file_extension": ".py",
   "mimetype": "text/x-python",
   "name": "python",
   "nbconvert_exporter": "python",
   "pygments_lexer": "ipython3",
   "version": "3.8.8"
  },
  "orig_nbformat": 4
 },
 "nbformat": 4,
 "nbformat_minor": 2
}
