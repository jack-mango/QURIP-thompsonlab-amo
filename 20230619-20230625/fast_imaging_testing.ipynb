{
 "cells": [
  {
   "cell_type": "code",
   "execution_count": 1,
   "metadata": {},
   "outputs": [],
   "source": [
    "import numpy as np\n",
    "import matplotlib.pyplot as plt\n",
    "import tensorflow as tf\n",
    "from tensorflow.keras import datasets, layers, models, optimizers\n",
    "\n",
    "from ImageProcessing import *\n",
    "from ImageGenerator import ImageGenerator"
   ]
  },
  {
   "attachments": {},
   "cell_type": "markdown",
   "metadata": {},
   "source": [
    "# Creating Parameters For Image Generation"
   ]
  },
  {
   "cell_type": "code",
   "execution_count": 2,
   "metadata": {},
   "outputs": [],
   "source": [
    "width, height = 16, 16\n",
    "a0, a1 = np.array([5.7, 0]), np.array([0, 5.7])\n",
    "lattice_offset = np.array([2, 2])\n",
    "lattice_shape = np.array([3, 3])\n",
    "noise_mean = 100\n",
    "noise_spread = 0.2\n",
    "n_bright = 10\n",
    "n_dark = 1\n",
    "site_spread = 1.1\n",
    "\n",
    "im_gen = ImageGenerator(width, height, a0, a1, lattice_offset, lattice_shape, noise_mean,\n",
    "                         noise_spread, n_dark, n_bright, site_spread)"
   ]
  },
  {
   "cell_type": "code",
   "execution_count": 3,
   "metadata": {},
   "outputs": [],
   "source": [
    "images, labels = im_gen.make(10)\n"
   ]
  },
  {
   "cell_type": "code",
   "execution_count": 4,
   "metadata": {},
   "outputs": [],
   "source": [
    "processor = TrainingImageProcessor(images, np.array([3, 3]), labels)\n",
    "images, labels = processor.make_dataset()"
   ]
  },
  {
   "attachments": {},
   "cell_type": "markdown",
   "metadata": {},
   "source": [
    "# Check to see that images look correct"
   ]
  },
  {
   "cell_type": "code",
   "execution_count": 5,
   "metadata": {},
   "outputs": [
    {
     "name": "stdout",
     "output_type": "stream",
     "text": [
      "1\n"
     ]
    },
    {
     "data": {
      "image/png": "[encoded data removed]",
      "text/plain": [
       "<Figure size 432x288 with 2 Axes>"
      ]
     },
     "metadata": {
      "needs_background": "light"
     },
     "output_type": "display_data"
    }
   ],
   "source": [
    "random_index = np.random.randint(images.shape[0])\n",
    "\n",
    "print(labels[random_index])\n",
    "\n",
    "processor.plot(random_index)"
   ]
  },
  {
   "cell_type": "code",
   "execution_count": 6,
   "metadata": {},
   "outputs": [
    {
     "name": "stdout",
     "output_type": "stream",
     "text": [
      "Model: \"sequential\"\n",
      "_________________________________________________________________\n",
      " Layer (type)                Output Shape              Param #   \n",
      "=================================================================\n",
      " conv2d (Conv2D)             (None, 14, 14, 8)         80        \n",
      "                                                                 \n",
      " max_pooling2d (MaxPooling2D  (None, 7, 7, 8)          0         \n",
      " )                                                               \n",
      "                                                                 \n",
      " conv2d_1 (Conv2D)           (None, 5, 5, 8)           584       \n",
      "                                                                 \n",
      " flatten (Flatten)           (None, 200)               0         \n",
      "                                                                 \n",
      " dense (Dense)               (None, 1)                 201       \n",
      "                                                                 \n",
      "=================================================================\n",
      "Total params: 865\n",
      "Trainable params: 865\n",
      "Non-trainable params: 0\n",
      "_________________________________________________________________\n"
     ]
    }
   ],
   "source": [
    "model = models.Sequential()\n",
    "model.add(layers.Input(shape=(16, 16, 1)))\n",
    "model.add(layers.Conv2D(8, (3, 3), strides=1, activation='relu'))\n",
    "model.add(layers.MaxPooling2D(pool_size=(2, 2)))\n",
    "model.add(layers.Conv2D(8, (3, 3), strides=1, activation='relu'))\n",
    "model.add(layers.Flatten())\n",
    "model.add(layers.Dense(1, activation='sigmoid'))\n",
    "\n",
    "model.summary()"
   ]
  },
  {
   "cell_type": "code",
   "execution_count": 7,
   "metadata": {},
   "outputs": [
    {
     "name": "stdout",
     "output_type": "stream",
     "text": [
      "[0 0 0 ... 1 1 1]\n",
      "Epoch 1/50\n",
      "160/160 [==============================] - 1s 4ms/step - loss: 0.7358 - binary_accuracy: 0.4787\n",
      "Epoch 2/50\n",
      "160/160 [==============================] - 1s 3ms/step - loss: 0.6963 - binary_accuracy: 0.5061\n",
      "Epoch 3/50\n",
      "160/160 [==============================] - 1s 3ms/step - loss: 0.6787 - binary_accuracy: 0.5945\n",
      "Epoch 4/50\n",
      "160/160 [==============================] - 0s 3ms/step - loss: 0.6503 - binary_accuracy: 0.7451\n",
      "Epoch 5/50\n",
      "160/160 [==============================] - 0s 3ms/step - loss: 0.6066 - binary_accuracy: 0.8324\n",
      "Epoch 6/50\n",
      "160/160 [==============================] - 0s 3ms/step - loss: 0.5280 - binary_accuracy: 0.8750\n",
      "Epoch 7/50\n",
      "160/160 [==============================] - 1s 4ms/step - loss: 0.4212 - binary_accuracy: 0.8977\n",
      "Epoch 8/50\n",
      "160/160 [==============================] - 1s 3ms/step - loss: 0.3282 - binary_accuracy: 0.9094\n",
      "Epoch 9/50\n",
      "160/160 [==============================] - 1s 4ms/step - loss: 0.2811 - binary_accuracy: 0.9123\n",
      "Epoch 10/50\n",
      "160/160 [==============================] - 1s 3ms/step - loss: 0.2361 - binary_accuracy: 0.9285\n",
      "Epoch 11/50\n",
      "160/160 [==============================] - 1s 4ms/step - loss: 0.2227 - binary_accuracy: 0.9246\n",
      "Epoch 12/50\n",
      "160/160 [==============================] - 1s 4ms/step - loss: 0.2008 - binary_accuracy: 0.9283\n",
      "Epoch 13/50\n",
      "160/160 [==============================] - 1s 4ms/step - loss: 0.1849 - binary_accuracy: 0.9365\n",
      "Epoch 14/50\n",
      "160/160 [==============================] - 1s 3ms/step - loss: 0.1715 - binary_accuracy: 0.9393\n",
      "Epoch 15/50\n",
      "160/160 [==============================] - 1s 4ms/step - loss: 0.1640 - binary_accuracy: 0.9438\n",
      "Epoch 16/50\n",
      "160/160 [==============================] - 1s 3ms/step - loss: 0.1562 - binary_accuracy: 0.9432\n",
      "Epoch 17/50\n",
      "160/160 [==============================] - 1s 4ms/step - loss: 0.1538 - binary_accuracy: 0.9457\n",
      "Epoch 18/50\n",
      "160/160 [==============================] - 1s 4ms/step - loss: 0.1470 - binary_accuracy: 0.9477\n",
      "Epoch 19/50\n",
      "160/160 [==============================] - 1s 3ms/step - loss: 0.1403 - binary_accuracy: 0.9490\n",
      "Epoch 20/50\n",
      "160/160 [==============================] - 0s 2ms/step - loss: 0.1398 - binary_accuracy: 0.9498\n",
      "Epoch 21/50\n",
      "160/160 [==============================] - 0s 3ms/step - loss: 0.1316 - binary_accuracy: 0.9508\n",
      "Epoch 22/50\n",
      "160/160 [==============================] - 0s 3ms/step - loss: 0.1284 - binary_accuracy: 0.9529\n",
      "Epoch 23/50\n",
      "160/160 [==============================] - 1s 3ms/step - loss: 0.1308 - binary_accuracy: 0.9523\n",
      "Epoch 24/50\n",
      "160/160 [==============================] - 0s 3ms/step - loss: 0.1353 - binary_accuracy: 0.9471\n",
      "Epoch 25/50\n",
      "160/160 [==============================] - 0s 3ms/step - loss: 0.1234 - binary_accuracy: 0.9537\n",
      "Epoch 26/50\n",
      "160/160 [==============================] - 0s 3ms/step - loss: 0.1264 - binary_accuracy: 0.9527\n",
      "Epoch 27/50\n",
      "160/160 [==============================] - 0s 3ms/step - loss: 0.1210 - binary_accuracy: 0.9559\n",
      "Epoch 28/50\n",
      "160/160 [==============================] - 1s 3ms/step - loss: 0.1935 - binary_accuracy: 0.9338\n",
      "Epoch 29/50\n",
      "160/160 [==============================] - 0s 3ms/step - loss: 0.1647 - binary_accuracy: 0.9486\n",
      "Epoch 30/50\n",
      "160/160 [==============================] - 0s 3ms/step - loss: 0.1495 - binary_accuracy: 0.9518\n",
      "Epoch 31/50\n",
      "160/160 [==============================] - 0s 3ms/step - loss: 0.1404 - binary_accuracy: 0.9527\n",
      "Epoch 32/50\n",
      "160/160 [==============================] - 0s 3ms/step - loss: 0.1377 - binary_accuracy: 0.9496\n",
      "Epoch 33/50\n",
      "160/160 [==============================] - 0s 3ms/step - loss: 0.1334 - binary_accuracy: 0.9504\n",
      "Epoch 34/50\n",
      "160/160 [==============================] - 1s 4ms/step - loss: 0.1321 - binary_accuracy: 0.9523\n",
      "Epoch 35/50\n",
      "160/160 [==============================] - 0s 3ms/step - loss: 0.1264 - binary_accuracy: 0.9553\n",
      "Epoch 36/50\n",
      "160/160 [==============================] - 0s 3ms/step - loss: 0.1207 - binary_accuracy: 0.9566\n",
      "Epoch 37/50\n",
      "160/160 [==============================] - 0s 3ms/step - loss: 0.1154 - binary_accuracy: 0.9592\n",
      "Epoch 38/50\n",
      "160/160 [==============================] - 0s 3ms/step - loss: 0.1126 - binary_accuracy: 0.9572\n",
      "Epoch 39/50\n",
      "160/160 [==============================] - 0s 3ms/step - loss: 0.1136 - binary_accuracy: 0.9609\n",
      "Epoch 40/50\n",
      "160/160 [==============================] - 1s 3ms/step - loss: 0.1151 - binary_accuracy: 0.9584\n",
      "Epoch 41/50\n",
      "160/160 [==============================] - 0s 3ms/step - loss: 0.1103 - binary_accuracy: 0.9596\n",
      "Epoch 42/50\n",
      "160/160 [==============================] - 0s 3ms/step - loss: 0.1108 - binary_accuracy: 0.9584\n",
      "Epoch 43/50\n",
      "160/160 [==============================] - 0s 3ms/step - loss: 0.1091 - binary_accuracy: 0.9600\n",
      "Epoch 44/50\n",
      "160/160 [==============================] - 0s 3ms/step - loss: 0.1096 - binary_accuracy: 0.9588\n",
      "Epoch 45/50\n",
      "160/160 [==============================] - 0s 3ms/step - loss: 0.1108 - binary_accuracy: 0.9574\n",
      "Epoch 46/50\n",
      "160/160 [==============================] - 0s 3ms/step - loss: 0.1087 - binary_accuracy: 0.9590\n",
      "Epoch 47/50\n",
      "160/160 [==============================] - 0s 3ms/step - loss: 0.1108 - binary_accuracy: 0.9580\n",
      "Epoch 48/50\n",
      "160/160 [==============================] - 0s 3ms/step - loss: 0.1103 - binary_accuracy: 0.9598\n",
      "Epoch 49/50\n",
      "160/160 [==============================] - 0s 2ms/step - loss: 0.1061 - binary_accuracy: 0.9600\n",
      "Epoch 50/50\n",
      "160/160 [==============================] - 0s 3ms/step - loss: 0.1090 - binary_accuracy: 0.9602\n"
     ]
    },
    {
     "data": {
      "text/plain": [
       "<keras.callbacks.History at 0x7fd2f02af8e0>"
      ]
     },
     "execution_count": 7,
     "metadata": {},
     "output_type": "execute_result"
    }
   ],
   "source": [
    "model.compile(optimizer='adam', loss='binary_crossentropy', metrics=['binary_accuracy'])\n",
    "print(labels)\n",
    "model.fit(images, labels, epochs=50)"
   ]
  },
  {
   "cell_type": "code",
   "execution_count": null,
   "metadata": {},
   "outputs": [],
   "source": []
  }
 ],
 "metadata": {
  "kernelspec": {
   "display_name": "base",
   "language": "python",
   "name": "python3"
  },
  "language_info": {
   "codemirror_mode": {
    "name": "ipython",
    "version": 3
   },
   "file_extension": ".py",
   "mimetype": "text/x-python",
   "name": "python",
   "nbconvert_exporter": "python",
   "pygments_lexer": "ipython3",
   "version": "3.8.8"
  },
  "orig_nbformat": 4
 },
 "nbformat": 4,
 "nbformat_minor": 2
}
