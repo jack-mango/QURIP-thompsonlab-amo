{
 "cells": [
  {
   "cell_type": "code",
   "execution_count": 1,
   "id": "aaca0dc7-9e48-40f5-802b-0757159932c5",
   "metadata": {},
   "outputs": [
    {
     "ename": "SyntaxError",
     "evalue": "duplicate argument 'std' in function definition (ImageProcessing.py, line 113)",
     "output_type": "error",
     "traceback": [
      "Traceback \u001b[0;36m(most recent call last)\u001b[0m:\n",
      "  File \u001b[1;32m\"/opt/anaconda3/lib/python3.8/site-packages/IPython/core/interactiveshell.py\"\u001b[0m, line \u001b[1;32m3437\u001b[0m, in \u001b[1;35mrun_code\u001b[0m\n    exec(code_obj, self.user_global_ns, self.user_ns)\n",
      "\u001b[0;36m  File \u001b[0;32m\"<ipython-input-1-1367ff4c3492>\"\u001b[0;36m, line \u001b[0;32m6\u001b[0;36m, in \u001b[0;35m<module>\u001b[0;36m\u001b[0m\n\u001b[0;31m    from ImageProcessing import *\u001b[0m\n",
      "\u001b[0;36m  File \u001b[0;32m\"/Users/jackmango/Desktop/QUIRP - Work/Princeton/ImagingSoftware/ImageProcessing.py\"\u001b[0;36m, line \u001b[0;32m113\u001b[0m\n\u001b[0;31m    def helper(x, lattice_constant, lattice_offset, std, scaling, offset, std, scaling, offset):\u001b[0m\n\u001b[0m    ^\u001b[0m\n\u001b[0;31mSyntaxError\u001b[0m\u001b[0;31m:\u001b[0m duplicate argument 'std' in function definition\n"
     ]
    }
   ],
   "source": [
    "import numpy as np\n",
    "\n",
    "import scipy.constants as cs\n",
    "from scipy.optimize import curve_fit\n",
    "import scipy.ndimage as ndimage\n",
    "from ImageProcessing import *\n",
    "\n",
    "import matplotlib.pyplot as plt\n",
    "import matplotlib.scale as scale\n",
    "\n",
    "import tqdm\n",
    "import scipy.io\n",
    "\n",
    "import csv"
   ]
  },
  {
   "cell_type": "code",
   "execution_count": null,
   "id": "afb6e39c-ba5b-44eb-b286-f4ad952ad550",
   "metadata": {},
   "outputs": [],
   "source": [
    "data = scipy.io.loadmat('jun1_run9.mat')\n",
    "n_loops = 20\n",
    "lattice_shape = np.array([20, 20])\n",
    "stack = data['stack']"
   ]
  },
  {
   "cell_type": "code",
   "execution_count": 3,
   "id": "baf49e51",
   "metadata": {},
   "outputs": [
    {
     "ename": "NameError",
     "evalue": "name 'ImageProcessor' is not defined",
     "output_type": "error",
     "traceback": [
      "\u001b[0;31m---------------------------------------------------------------------------\u001b[0m",
      "\u001b[0;31mNameError\u001b[0m                                 Traceback (most recent call last)",
      "\u001b[0;32m<ipython-input-3-d854eda28d83>\u001b[0m in \u001b[0;36m<module>\u001b[0;34m\u001b[0m\n\u001b[0;32m----> 1\u001b[0;31m \u001b[0mimg\u001b[0m \u001b[0;34m=\u001b[0m \u001b[0mImageProcessor\u001b[0m\u001b[0;34m(\u001b[0m\u001b[0mstack\u001b[0m\u001b[0;34m,\u001b[0m \u001b[0mnp\u001b[0m\u001b[0;34m.\u001b[0m\u001b[0marray\u001b[0m\u001b[0;34m(\u001b[0m\u001b[0;34m[\u001b[0m\u001b[0;36m10\u001b[0m\u001b[0;34m,\u001b[0m \u001b[0;36m10\u001b[0m\u001b[0;34m]\u001b[0m\u001b[0;34m)\u001b[0m\u001b[0;34m,\u001b[0m \u001b[0;36m20\u001b[0m\u001b[0;34m)\u001b[0m\u001b[0;34m\u001b[0m\u001b[0;34m\u001b[0m\u001b[0m\n\u001b[0m\u001b[1;32m      2\u001b[0m \u001b[0mimg\u001b[0m\u001b[0;34m.\u001b[0m\u001b[0mplot\u001b[0m\u001b[0;34m(\u001b[0m\u001b[0;34m)\u001b[0m\u001b[0;34m\u001b[0m\u001b[0;34m\u001b[0m\u001b[0m\n\u001b[1;32m      3\u001b[0m \u001b[0mcrops\u001b[0m\u001b[0;34m,\u001b[0m \u001b[0mlabels\u001b[0m \u001b[0;34m=\u001b[0m \u001b[0mimg\u001b[0m\u001b[0;34m.\u001b[0m\u001b[0mprocess\u001b[0m\u001b[0;34m(\u001b[0m\u001b[0;34m)\u001b[0m\u001b[0;34m\u001b[0m\u001b[0;34m\u001b[0m\u001b[0m\n",
      "\u001b[0;31mNameError\u001b[0m: name 'ImageProcessor' is not defined"
     ]
    }
   ],
   "source": [
    "img = ImageProcessor(stack, np.array([10, 10]), 20)\n",
    "img.plot()\n",
    "crops, labels = img.process()"
   ]
  },
  {
   "cell_type": "code",
   "execution_count": null,
   "id": "fa47c639",
   "metadata": {},
   "outputs": [
    {
     "data": {
      "image/png": "[encoded data removed]",
      "text/plain": [
       "<Figure size 720x1440 with 4 Axes>"
      ]
     },
     "metadata": {
      "needs_background": "light"
     },
     "output_type": "display_data"
    }
   ],
   "source": [
    "i, j, k = np.random.randint(img.n_tweezers), np.random.randint(img.n_loops), np.random.randint(img.per_loop - 4)\n",
    "\n",
    "fig, axs = plt.subplots(1, 4, figsize=(10, 20))\n",
    "\n",
    "for n in range(4):\n",
    "    axs[n].imshow(crops[img.crop_index(i, j, k + n)], vmin=img.stack.min(), vmax=img.stack.max(), cmap='magma')"
   ]
  },
  {
   "cell_type": "code",
   "execution_count": null,
   "id": "0473119c",
   "metadata": {},
   "outputs": [],
   "source": []
  },
  {
   "cell_type": "code",
   "execution_count": null,
   "id": "2a1035f1",
   "metadata": {},
   "outputs": [],
   "source": []
  }
 ],
 "metadata": {
  "kernelspec": {
   "display_name": "base",
   "language": "python",
   "name": "python3"
  },
  "language_info": {
   "codemirror_mode": {
    "name": "ipython",
    "version": 3
   },
   "file_extension": ".py",
   "mimetype": "text/x-python",
   "name": "python",
   "nbconvert_exporter": "python",
   "pygments_lexer": "ipython3",
   "version": "3.8.8"
  },
  "vscode": {
   "interpreter": {
    "hash": "40d3a090f54c6569ab1632332b64b2c03c39dcf918b08424e98f38b5ae0af88f"
   }
  }
 },
 "nbformat": 4,
 "nbformat_minor": 5
}
